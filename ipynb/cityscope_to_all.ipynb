{
 "cells": [
  {
   "cell_type": "markdown",
   "metadata": {},
   "source": [
    "# CityScope For World"
   ]
  },
  {
   "cell_type": "code",
   "execution_count": 3,
   "metadata": {},
   "outputs": [],
   "source": [
    "cellsize = 10 #ref 10m = 1 block\n",
    "from flask import Flask,request\n",
    "from flask_cors import CORS, cross_origin\n",
    "from flask_mail import Mail,  Message\n",
    "import geopandas as gpd\n",
    "import geopy\n",
    "from geopy.distance import geodesic\n",
    "from shapely.geometry import Polygon\n",
    "import numpy as np\n",
    "import json\n",
    "from pyproj import CRS, Transformer\n",
    "from pyproj.transformer import Transformer, AreaOfInterest\n",
    "import math\n",
    "from osmxtract import overpass\n",
    "from staticmap import StaticMap, CircleMarker\n",
    "import io\n",
    "import os\n",
    "import urllib.request\n",
    "import requests\n",
    "from PIL import Image\n",
    "from math import pi, log, tan, exp, atan, log2, floor\n",
    "from pymongo import MongoClient \n",
    "import shapely"
   ]
  },
  {
   "cell_type": "code",
   "execution_count": 4,
   "metadata": {},
   "outputs": [],
   "source": [
    "def get_geojson(bounds):\n",
    "    query = overpass.ql_query(bounds, tag='building')\n",
    "    response = overpass.request(query)\n",
    "    return(response)"
   ]
  },
  {
   "cell_type": "markdown",
   "metadata": {},
   "source": [
    "## Codes for image"
   ]
  },
  {
   "cell_type": "code",
   "execution_count": 68,
   "metadata": {},
   "outputs": [],
   "source": [
    "ZOOM0_SIZE = 512\n",
    "\n",
    "#codes for obtaining base map png\n",
    "\n",
    "def g2p(lat, lon, zoom):\n",
    "    return (\n",
    "        ZOOM0_SIZE * (2 ** zoom) * (1 + lon / 180) / 2,\n",
    "        ZOOM0_SIZE / (2 * pi) * (2 ** zoom) * (pi - log(tan(pi / 4 * (1 + lat / 90))))\n",
    "    )\n",
    "\n",
    "def p2g(x, y, zoom):\n",
    "    return (\n",
    "        (atan(exp(pi - y / ZOOM0_SIZE * (2 * pi) / (2 ** zoom))) / pi * 4 - 1) * 90,\n",
    "        (x / ZOOM0_SIZE * 2 / (2 ** zoom) - 1) * 180,\n",
    "    )\n",
    "\n",
    "def ax2mb(left, right, bottom, top):\n",
    "    return (left, bottom, right, top)\n",
    "\n",
    "def mb2ax(left, bottom, right, top):\n",
    "    return (left, right, bottom, top)\n",
    "\n",
    "\n",
    "def get_map_by_bbox(bbox):\n",
    "    token = \"pk.eyJ1IjoiZ2swMyIsImEiOiJhMzEwZTIyYWRhZWFjNWE5MTg0MzVkOGU5MjUyNzkxMiJ9.MKrbn4sDFM-oNMc9QupIKg\"\n",
    "\n",
    "    (left, bottom, right, top) = bbox\n",
    "\n",
    "    assert (-90 <= bottom < top <= 90)\n",
    "    assert (-180 <= left < right <= 180)\n",
    "\n",
    "    (w, h) = (1024, 1024)\n",
    "\n",
    "    (lat, lon) = ((top + bottom) / 2, (left + right) / 2)\n",
    "\n",
    "    snap_to_dyadic = (lambda a, b: (lambda x, scale=(2 ** floor(log2(abs(b - a) / 4))): (round(x / scale) * scale)))\n",
    "\n",
    "    lat = snap_to_dyadic(bottom, top)(lat)\n",
    "    lon = snap_to_dyadic(left, right)(lon)\n",
    "\n",
    "    assert ((bottom < lat < top) and (left < lon < right)), \"Reference point not inside the region of interest\"\n",
    "\n",
    "    for zoom in range(16, 0, -1):\n",
    "        (x0, y0) = g2p(lat, lon, zoom)\n",
    "\n",
    "        (TOP, LEFT) = p2g(x0 - w / 2, y0 - h / 2, zoom)\n",
    "        (BOTTOM, RIGHT) = p2g(x0 + w / 2, y0 + h / 2, zoom)\n",
    "\n",
    "        if (LEFT <= left < right <= RIGHT):\n",
    "            if (BOTTOM <= bottom < top <= TOP):\n",
    "                break\n",
    "\n",
    "    params = {\n",
    "        'style': \"streets-v10\",\n",
    "        'lat': lat,\n",
    "        'lon': lon,\n",
    "        'token': token,\n",
    "        'zoom': zoom,\n",
    "        'w': w,\n",
    "        'h': h,\n",
    "        'retina': \"@2x\",\n",
    "    }\n",
    "\n",
    "    url_template = \"https://api.mapbox.com/styles/v1/mapbox/{style}/static/{lon},{lat},{zoom}/{w}x{h}{retina}?access_token={token}&attribution=false&logo=false\"\n",
    "    url = url_template.format(**params)\n",
    "\n",
    "    with urllib.request.urlopen(url) as response:\n",
    "        j = Image.open(io.BytesIO(response.read()))\n",
    "\n",
    "    (W, H) = j.size\n",
    "    assert ((W, H) in [(w, h), (2 * w, 2 * h)])\n",
    "\n",
    "    i = j.crop((\n",
    "        round(W * (left - LEFT) / (RIGHT - LEFT)),\n",
    "        round(H * (top - TOP) / (BOTTOM - TOP)),\n",
    "        round(W * (right - LEFT) / (RIGHT - LEFT)),\n",
    "        round(H * (bottom - TOP) / (BOTTOM - TOP)),\n",
    "    ))\n",
    "\n",
    "    return i\n",
    "\n",
    "\n",
    "def test(bbox):\n",
    "    return(get_map_by_bbox(bbox))"
   ]
  },
  {
   "cell_type": "markdown",
   "metadata": {},
   "source": [
    "## codes for g3json"
   ]
  },
  {
   "cell_type": "code",
   "execution_count": 5,
   "metadata": {},
   "outputs": [],
   "source": [
    "def inversebound(bound): return([bound[1],bound[0],bound[3],bound[2]])"
   ]
  },
  {
   "cell_type": "code",
   "execution_count": 6,
   "metadata": {},
   "outputs": [],
   "source": [
    "def transfrom_latlng_to_m(lat,lng, bounds, h,w):\n",
    "    center = ((bounds[0]+bounds[2])/2,(bounds[1]+bounds[3])/2)\n",
    "    x = geodesic(center, (bounds[0],center[1])).m\n",
    "    y = geodesic(center, (center[0],bounds[1])).m\n",
    "    crs = CRS.from_proj4(\"+proj=laea +lat_0=\"+str(center[0])+\" +lon_0=\"+str(center[1])+\" +x_0=0 +y_0=0 +ellps=GRS80 +towgs84=0,0,0,0,0,0,0 +units=m +no_defs\")\n",
    "    transformer = Transformer.from_crs(\"epsg:4326\", crs)\n",
    "    y1,x1 = transformer.transform(lat, lng)\n",
    "    return([(h/2)/y*y1,(w/2)/x*x1])"
   ]
  },
  {
   "cell_type": "code",
   "execution_count": 7,
   "metadata": {},
   "outputs": [],
   "source": [
    "def g_inverse(gdf):\n",
    "    gdf.geometry = gdf.geometry.map(lambda polygon: shapely.ops.transform(lambda x, y: (y, x), polygon))\n",
    "    return gdf"
   ]
  },
  {
   "cell_type": "code",
   "execution_count": 8,
   "metadata": {},
   "outputs": [],
   "source": [
    "def find_one_grid_for_single_goem(geom):\n",
    "    category_code = {\"RL\":0,\"RM\":1,\"RS\":2,\"OL\":3,\"OM\":4,\"OS\":5,\"Amenities\":7,\"parking\":9}\n",
    "    category_value = {\"RL\":[\"apartments\",\"bungalow\",\"dormitory\",\"hotel\"],\"RM\":[\"detached\",\"farm\",\"house\",\"residential\"],\"RS\":[\"cabin\",\"houseboat\",\"static_caravan\",\"terrace\"],\"OL\":[\"commercial\",\"industrial\",\"office\"],\"OM\":[\"retail\",\"warehouse\"],\"OS\":[\"kiosk\",\"supermarket\"],\"Amenities\":[\"bakehouse\",\"civic\",\"government\",\"hospital\",\"kindergarten\",\"public\",\"school\",\"toilets\",\"train_station\",\"transportation\",\"university\"],\"parking\":[\"carport\",\"garage\",\"garages\",\"parking\"]}\n",
    "    height = False\n",
    "    if \"height\" in geom[\"properties\"]:\n",
    "        height = True\n",
    "    elif \"building:height\" in geom[\"properties\"]:\n",
    "        height = True\n",
    "        geom[\"properties\"][\"height\"] = geom[\"properties\"][\"building:height\"]\n",
    "    \n",
    "    final_cat = \"RM\"\n",
    "    final_height = 1\n",
    "    \n",
    "    for cat,val in category_value.items():\n",
    "        if geom[\"properties\"][\"building\"] in val:\n",
    "            final_cat = cat\n",
    "            \n",
    "    if(height):\n",
    "        if(geom[\"properties\"][\"height\"] == geom[\"properties\"][\"height\"]):\n",
    "            if(geom[\"properties\"][\"height\"][-1] == 'm'):\n",
    "                geom[\"properties\"][\"height\"] = geom[\"properties\"][\"height\"][:-1]\n",
    "            final_height = float(geom[\"properties\"][\"height\"])\n",
    "\n",
    "    if(final_height > 10):\n",
    "        final_height = final_height/10\n",
    "    elif(final_height <= 10):\n",
    "        final_height = 1\n",
    "\n",
    "    return(final_height,final_cat)"
   ]
  },
  {
   "cell_type": "code",
   "execution_count": 9,
   "metadata": {},
   "outputs": [],
   "source": [
    "def get_q3jsjson(jsondata,h,w,bounds):\n",
    "    json1 = {\n",
    "      \"block\": 0,\n",
    "      \"layer\": 0,\n",
    "      \"type\": \"block\"\n",
    "    }\n",
    "    geojson = {\"type\":\"FeatureCollection\"}\n",
    "    features = []\n",
    "    features_without_bounds = []\n",
    "    for i in jsondata[\"features\"]:\n",
    "        not_overflow = True\n",
    "        if(i[\"geometry\"][\"type\"] == \"Polygon\"):\n",
    "            feature = {\"ids\":i[\"id\"],\"tags\":i[\"properties\"],\"mtl\":{\"face\":0}}\n",
    "            centroid = transfrom_latlng_to_m(Polygon(i[\"geometry\"][\"coordinates\"][0]).centroid.y,Polygon(i[\"geometry\"][\"coordinates\"][0]).centroid.x,bounds, h,w)\n",
    "            polygons = []\n",
    "            for j in i[\"geometry\"][\"coordinates\"]:\n",
    "                sub_poly = []\n",
    "                for k in j:\n",
    "                    changed_lat_lng = transfrom_latlng_to_m(k[1],k[0], bounds, h,w)  \n",
    "                    sub_poly.append(changed_lat_lng)\n",
    "                polygons.append(sub_poly)\n",
    "            temp_geom ={\"coordinates\":polygons,\"type\":\"Polygon\"}\n",
    "            features_without_bounds.append({\"geometry\":temp_geom,\"id\":i[\"id\"],\"properties\":i[\"properties\"],\"type\": \"Feature\"})\n",
    "            type_length = find_one_grid_for_single_goem(i)\n",
    "            geom = {\"centroids\": [[centroid[0],centroid[1],0.0]],\"h\":type_length[0],\"cat\":type_length[1],\"polygons\":[polygons]}\n",
    "            feature[\"geom\"] = geom\n",
    "            if(not_overflow):\n",
    "                features.append(feature)\n",
    "    json1[\"features\"] = features\n",
    "    geojson[\"features\"] = features_without_bounds\n",
    "    return(json1,geojson)"
   ]
  },
  {
   "cell_type": "code",
   "execution_count": 57,
   "metadata": {},
   "outputs": [],
   "source": [
    "def get_scene(bound,h,w,name):\n",
    "    pathtoq3jsjson = \"./data/\"+name+\"/a0.json\"\n",
    "    pathtoblocksjson = \"./data/\"+name+\"/a1.json\"\n",
    "    pathtoimage = \"./data/\"+name+\"/b1.png\"\n",
    "    scenename = name\n",
    "    scenewidth = w\n",
    "    sceneheight = h\n",
    "    boundinverse = [bound[1],bound[0],bound[3],bound[2]]\n",
    "    centerlat = (bound[0]+bound[2])/2\n",
    "    centerlon = (bound[1]+bound[3])/2\n",
    "    scene = {\n",
    "      \"layers\": [\n",
    "        {\n",
    "          \"data\": {\n",
    "            \"blocks\": [\n",
    "              {\n",
    "                \"url\": pathtoq3jsjson\n",
    "              }\n",
    "            ],\n",
    "            \"materials\": [\n",
    "              {\n",
    "                \"c\": 12011595,\n",
    "                \"type\": 0\n",
    "              }\n",
    "            ]\n",
    "          },\n",
    "          \"id\": 0,\n",
    "          \"properties\": {\n",
    "            \"name\": scenename,\n",
    "            \"objType\": \"Extruded\",\n",
    "            \"queryable\": 1,\n",
    "            \"type\": \"polygon\",\n",
    "            \"visible\": 'true'\n",
    "          },\n",
    "          \"type\": \"layer\"\n",
    "        },\n",
    "        {\n",
    "          \"data\": {\n",
    "            \"blocks\": [\n",
    "              {\n",
    "                \"url\": pathtoblocksjson\n",
    "              }\n",
    "            ],\n",
    "            \"materials\": [\n",
    "              {\n",
    "                \"c\": 12011595,\n",
    "                \"type\": 0\n",
    "              }\n",
    "            ]\n",
    "          },\n",
    "          \"id\": 1,\n",
    "          \"properties\": {\n",
    "            \"name\": \"blocks\",\n",
    "            \"objType\": \"Extruded\",\n",
    "            \"queryable\": 1,\n",
    "            \"type\": \"polygon\",\n",
    "            \"visible\": \"true\"\n",
    "          },\n",
    "          \"type\": \"layer\"\n",
    "        },\n",
    "        {\n",
    "          \"data\": [\n",
    "            {\n",
    "              \"block\": 0,\n",
    "              \"grid\": {\n",
    "                \"height\": 2,\n",
    "                \"url\": \"./data/index/b0.bin\",\n",
    "                \"width\": 2\n",
    "              },\n",
    "              \"height\": scenewidth,\n",
    "              \"layer\": 1,\n",
    "              \"material\": {\n",
    "                \"ds\": 1,\n",
    "                \"image\": { \n",
    "                  \"url\": pathtoimage\n",
    "                },\n",
    "                \"type\": 0\n",
    "              },\n",
    "              \"sides\": 'true',\n",
    "              \"translate\": [\n",
    "                0.0,\n",
    "                0.0,\n",
    "                0.0\n",
    "              ],\n",
    "              \"type\": \"block\",\n",
    "              \"width\": sceneheight,\n",
    "              \"zScale\": 5858.880522639865,\n",
    "              \"zShift\": 0.0\n",
    "            }\n",
    "          ],\n",
    "          \"id\": 2,\n",
    "          \"properties\": {\n",
    "            \"name\": \"Flat Plane\",\n",
    "            \"queryable\": 1,\n",
    "            \"shading\": 'true',\n",
    "            \"type\": \"dem\",\n",
    "            \"visible\": 'true'\n",
    "          },\n",
    "          \"type\": \"layer\"\n",
    "        }\n",
    "      ],\n",
    "      \"properties\": {\n",
    "        \"baseExtent\": boundinverse,\n",
    "        \"crs\": \"EPSG:4326\",\n",
    "        \"height\": scenewidth,\n",
    "        \"proj\": \"+proj=longlat +datum=WGS84 +no_defs\",\n",
    "        \"rotation\": 0,\n",
    "        \"wgs84Center\": {\n",
    "          \"lat\": centerlat,\n",
    "          \"lon\": centerlon\n",
    "        },\n",
    "        \"width\": sceneheight,\n",
    "        \"zExaggeration\": 1.0,\n",
    "        \"zShift\": 0.0\n",
    "      },\n",
    "      \"type\": \"scene\"\n",
    "    }\n",
    "    return scene"
   ]
  },
  {
   "cell_type": "markdown",
   "metadata": {},
   "source": [
    "## codes for cityscope json & q3js block layer"
   ]
  },
  {
   "cell_type": "code",
   "execution_count": 10,
   "metadata": {},
   "outputs": [],
   "source": [
    "def round_10(n):\n",
    "    return(int(n + 9) // 10 * 10)"
   ]
  },
  {
   "cell_type": "code",
   "execution_count": 11,
   "metadata": {},
   "outputs": [],
   "source": [
    "def find_distance_edge(bounds_map):\n",
    "    coords_1 = (bounds_map[0], bounds_map[1])\n",
    "    coords_2 = (bounds_map[0], bounds_map[3])\n",
    "    coords_3 = (bounds_map[2], bounds_map[1])\n",
    "    return (round_10(geopy.distance.distance(coords_1, coords_3).m), round_10(geopy.distance.distance(coords_1, coords_2).m))"
   ]
  },
  {
   "cell_type": "code",
   "execution_count": 12,
   "metadata": {},
   "outputs": [],
   "source": [
    "def latlng_for_distance(lat,lng,distance,side):\n",
    "    origin = geopy.Point(lat, lng)\n",
    "    if(side == 'y'):\n",
    "        destination = geodesic(kilometers=distance).destination(origin, 90)\n",
    "    elif(side == 'x'):\n",
    "        destination = geodesic(kilometers=distance).destination(origin, 0)\n",
    "    return(round(destination.latitude,7), round(destination.longitude,7))"
   ]
  },
  {
   "cell_type": "code",
   "execution_count": 13,
   "metadata": {},
   "outputs": [],
   "source": [
    "def matrix_latlng(ilat,ilng,x_distance,y_distance):\n",
    "    latlng_height = [(ilat,ilng)]\n",
    "    latlng_lenght = [(ilat,ilng)]\n",
    "    for i in range(cellsize,y_distance+cellsize,cellsize):\n",
    "        latlng_height.append(latlng_for_distance(ilat,ilng,i/1000,\"y\"))\n",
    "    for i in range(cellsize,x_distance+cellsize,cellsize):\n",
    "        latlng_lenght.append(latlng_for_distance(ilat,ilng,i/1000,\"x\"))\n",
    "    return(latlng_lenght,latlng_height)"
   ]
  },
  {
   "cell_type": "code",
   "execution_count": 14,
   "metadata": {},
   "outputs": [],
   "source": [
    "def find_points(data):\n",
    "    distances = find_distance_edge(data.total_bounds) # Finds the distance in meters in x,y\n",
    "    return(matrix_latlng(data.total_bounds[0],data.total_bounds[1],distances[0],distances[1]))"
   ]
  },
  {
   "cell_type": "code",
   "execution_count": 15,
   "metadata": {},
   "outputs": [],
   "source": [
    "def find_matrix_points(gdf,h,w):\n",
    "    points = find_points(gdf)\n",
    "    block_points = []\n",
    "    for i in points:\n",
    "        temp_points = []\n",
    "        for j in i:\n",
    "            temp = transfrom_latlng_to_m(j[0],j[1],gdf.total_bounds,h,w)\n",
    "            temp_points.append([temp[0],temp[1]])\n",
    "        block_points.append(temp_points)\n",
    "    return block_points"
   ]
  },
  {
   "cell_type": "code",
   "execution_count": 45,
   "metadata": {},
   "outputs": [],
   "source": [
    "def reduce_by_05(bounds):\n",
    "    buffer = 0.2\n",
    "    a1 = [bounds[0][0][0][0]+buffer,bounds[0][0][0][1]+buffer]\n",
    "    a2 = [bounds[0][0][1][0]-buffer,bounds[0][0][1][1]+buffer]\n",
    "    a3 = [bounds[0][0][2][0]-buffer,bounds[0][0][2][1]-buffer]\n",
    "    a4 = [bounds[0][0][3][0]+buffer,bounds[0][0][3][1]-buffer]\n",
    "    return([[[a1,a2,a3,a4]]])"
   ]
  },
  {
   "cell_type": "code",
   "execution_count": 17,
   "metadata": {},
   "outputs": [],
   "source": [
    "def find_interaction(all_gpd,segment_bounds):\n",
    "    bound = gpd.GeoSeries([Polygon(segment_bounds)])\n",
    "    bound_gdframe = gpd.GeoDataFrame({'geometry': bound})\n",
    "    return(gpd.overlay(all_gpd, bound_gdframe, how='intersection'))"
   ]
  },
  {
   "cell_type": "code",
   "execution_count": 36,
   "metadata": {},
   "outputs": [],
   "source": [
    "def find_one_grid(igdf):\n",
    "    if(len(igdf.geometry) > 0):\n",
    "        count_yes = 0\n",
    "        count_category = {\"RL\":0,\"RM\":0,\"RS\":0,\"OL\":0,\"OM\":0,\"OS\":0,\"Amenities\":0,\"parking\":0}\n",
    "        category_code = {\"RL\":0,\"RM\":1,\"RS\":2,\"OL\":3,\"OM\":4,\"OS\":5,\"Amenities\":7,\"parking\":9}\n",
    "        category_value = {\"RL\":[\"apartments\",\"bungalow\",\"dormitory\",\"hotel\"],\"RM\":[\"detached\",\"farm\",\"house\",\"residential\"],\"RS\":[\"cabin\",\"houseboat\",\"static_caravan\",\"terrace\"],\"OL\":[\"commercial\",\"industrial\",\"office\"],\"OM\":[\"retail\",\"warehouse\"],\"OS\":[\"kiosk\",\"supermarket\"],\"Amenities\":[\"bakehouse\",\"civic\",\"government\",\"hospital\",\"kindergarten\",\"public\",\"school\",\"toilets\",\"train_station\",\"transportation\",\"university\"],\"parking\":[\"carport\",\"garage\",\"garages\",\"parking\"]}\n",
    "        height = False\n",
    "        height_count = 0\n",
    "        if \"height\" in igdf:\n",
    "            height = True\n",
    "        elif \"building:height\" in igdf:\n",
    "            igdf.columns=igdf.columns.str.replace('building:height','height')\n",
    "            height = True\n",
    "\n",
    "        for i in range(0,len(igdf.building)):\n",
    "            for cat,val in category_value.items():\n",
    "                if igdf.building[i] in val:\n",
    "                    count_category[cat] += 1\n",
    "                elif(igdf.building[i] == \"yes\"):\n",
    "                    count_yes = 1\n",
    "            if(height):\n",
    "                if(igdf.height[i] == igdf.height[i]):\n",
    "                    if(igdf.height[i][-1] == 'm'):\n",
    "                        igdf.height[i] = igdf.height[i][:-1]\n",
    "                    height_count += int(float(igdf.height[i]))\n",
    "\n",
    "        final_cat = max(count_category, key=count_category.get)\n",
    "        if(count_category[final_cat] == 0):\n",
    "            final_cat = \"RM\"\n",
    "\n",
    "        final_height = 1\n",
    "        if(height_count > 10):\n",
    "            final_height = int(height_count/10)\n",
    "            \n",
    "        return([category_code[final_cat],final_height,0])\n",
    "    else:\n",
    "        return([-1,0,0])"
   ]
  },
  {
   "cell_type": "code",
   "execution_count": 53,
   "metadata": {},
   "outputs": [],
   "source": [
    "def find_block_json(gdf,new_grid,h,w):\n",
    "    matrix = find_matrix_points(gdf,h,w)\n",
    "    ylen = len(matrix[0])-1\n",
    "    xlen = len(matrix[1])-1\n",
    "    #ylen = 10\n",
    "    #xlen = 10\n",
    "    json1 = {\n",
    "      \"block\": 0,\n",
    "      \"layer\": 1,\n",
    "      \"type\": \"block\"\n",
    "    }\n",
    "    features = []\n",
    "    dict_type = {0:\"RL\",1:\"RM\",2:\"RS\",3:\"OL\",4:\"OM\",5:\"OS\",7:\"Amenities\",9:\"parking\",-1:\"road\"}\n",
    "    grid_for_cs = []\n",
    "    for y in range(ylen):\n",
    "        grid_for_cs_1 = []\n",
    "        for x in range(0,xlen):\n",
    "            feature = {\"ids\":str(y)+str(x),\"tags\":{},\"mtl\":{\"face\":0}}\n",
    "            #print(y,x)\n",
    "            p1 = [matrix[1][x][0],matrix[0][y][1]]\n",
    "            p2 = [matrix[1][x+1][0],matrix[0][y][1]]\n",
    "            p3 = [matrix[1][x+1][0],matrix[0][y+1][1]]\n",
    "            p4 = [matrix[1][x][0],matrix[0][y+1][1]]\n",
    "            bounds = reduce_by_05([[[p1,p2,p3,p4,p1]]])\n",
    "            \n",
    "            pbounds = [p1,p2,p3,p4,p1]\n",
    "            \n",
    "            centroid = [(p1[0]+p3[0])/2,(p1[1]+p3[1])/2]\n",
    "            current_matrix = find_interaction(new_grid,pbounds)\n",
    "            grid_value = find_one_grid(current_matrix)\n",
    "            grid_for_cs_1.append(grid_value)\n",
    "            #geom = {\"centroids\": [[centroid[0],centroid[1],0.0]],\"h\":grid[y][x][1] ,\"cat\": dict_type[grid[y][x][0]],\"polygons\":bounds}\n",
    "            #print(str(x)+\",\"+str(y)+\":\"+str(len(current_matrix.geometry))+\"//\"+str(grid_value))\n",
    "            geom = {\"centroids\": [[centroid[0],centroid[1],0.0]],\"h\":1 ,\"cat\": dict_type[grid_value[0]],\"polygons\":bounds}\n",
    "            feature[\"geom\"] = geom\n",
    "            features.append(feature)\n",
    "        grid_for_cs.append(grid_for_cs_1)\n",
    "    json1[\"features\"] = features\n",
    "    return(json1,grid_for_cs,xlen,ylen)"
   ]
  },
  {
   "cell_type": "code",
   "execution_count": 59,
   "metadata": {},
   "outputs": [],
   "source": [
    "def get_cityscope_json(geojson,grid,name,email,x,y):\n",
    "    owner = {\n",
    "      \"name\": email,\n",
    "      \"title\": \"-\",\n",
    "      \"institute\": \"-\"\n",
    "    }\n",
    "    mapping = {\n",
    "      \"type\": {\n",
    "        \"-1\": \"MASK_INTERACTIVE\",\n",
    "        \"0\": \"RL\",\n",
    "        \"1\": \"RM\",\n",
    "        \"2\": \"RS\",\n",
    "        \"3\": \"OL\",\n",
    "        \"4\": \"OM\",\n",
    "        \"5\": \"OS\",\n",
    "        \"7\": \"Amenities\",\n",
    "        \"9\": \"parking\"\n",
    "      }\n",
    "    }\n",
    "    block = [\n",
    "      \"type\",\n",
    "      \"height\",\n",
    "      \"rotation\"\n",
    "    ]\n",
    "    temp = grid\n",
    "    spatial = {\n",
    "      \"physical_longitude\": geojson.geometry[0].centroid.y,\n",
    "      \"cellsize\": cellsize,\n",
    "      \"longitude\": geojson.geometry[0].centroid.y,\n",
    "      \"rotation\": 0,\n",
    "      \"nrows\": x,\n",
    "      \"latitude\": geojson.geometry[0].centroid.x,\n",
    "      \"ncols\": y,\n",
    "      \"physical_latitude\": geojson.geometry[0].centroid.x\n",
    "    }\n",
    "    final_api_data= {\"grid\":temp[0],\"id\":\"\",\"objects\":{}, \"header\": {\"spatial\":spatial,\"name\":name,\"block\":block,\"mapping\":mapping,\"owner\":owner}}\n",
    "    return final_api_data"
   ]
  },
  {
   "cell_type": "markdown",
   "metadata": {},
   "source": [
    "## running code"
   ]
  },
  {
   "cell_type": "code",
   "execution_count": 22,
   "metadata": {},
   "outputs": [],
   "source": [
    "h = 100\n",
    "w = 65.95092024539878"
   ]
  },
  {
   "cell_type": "code",
   "execution_count": 72,
   "metadata": {},
   "outputs": [],
   "source": [
    "bounds = [51.51001060678347, -0.14794696122407916, 51.51409698640834, -0.14075864106416705]"
   ]
  },
  {
   "cell_type": "code",
   "execution_count": 73,
   "metadata": {},
   "outputs": [],
   "source": [
    "gdf = g_inverse(gpd.GeoDataFrame.from_features(overpass.as_geojson(get_geojson(bounds), 'polygon') ))"
   ]
  },
  {
   "cell_type": "code",
   "execution_count": 74,
   "metadata": {},
   "outputs": [],
   "source": [
    "json_gdf = overpass.as_geojson(get_geojson(bounds), 'polygon')\n",
    "bound = inversebound(gpd.GeoDataFrame.from_features(json_gdf).total_bounds)"
   ]
  },
  {
   "cell_type": "code",
   "execution_count": 75,
   "metadata": {},
   "outputs": [],
   "source": [
    "q3json = get_q3jsjson(json_gdf,h,w,bound)\n",
    "new_gdf = gpd.GeoDataFrame.from_features(q3json[1])"
   ]
  },
  {
   "cell_type": "code",
   "execution_count": 76,
   "metadata": {},
   "outputs": [],
   "source": [
    "find = find_block_json(gdf,new_gdf,h,w)"
   ]
  },
  {
   "cell_type": "code",
   "execution_count": 77,
   "metadata": {},
   "outputs": [],
   "source": [
    "a1 = find[0]\n",
    "a0 = q3json[0]\n",
    "cityscope_json = get_cityscope_json(gdf,find[1],\"b5\",\"gokul.0369@gmail.com\",find[2],find[3])\n",
    "scene = get_scene(bound,h,w,\"b5\")"
   ]
  },
  {
   "cell_type": "code",
   "execution_count": 78,
   "metadata": {},
   "outputs": [],
   "source": [
    "with open(\"/Users/gokul/r/cityscope/cityscope_for_world/viewer/data/b5/a1.json\",'w+') as fh:\n",
    "    json.dump(a1,fh)"
   ]
  },
  {
   "cell_type": "code",
   "execution_count": 79,
   "metadata": {},
   "outputs": [],
   "source": [
    "with open('/Users/gokul/r/cityscope/cityscope_for_world/viewer/data/b5/a0.json','w+') as fh:\n",
    "    json.dump(a0,fh)"
   ]
  },
  {
   "cell_type": "code",
   "execution_count": 80,
   "metadata": {},
   "outputs": [],
   "source": [
    "with open('/Users/gokul/r/cityscope/cityscope_for_world/viewer/data/b5/scene.json','w+') as fh:\n",
    "    json.dump(scene,fh)"
   ]
  },
  {
   "cell_type": "code",
   "execution_count": 81,
   "metadata": {},
   "outputs": [],
   "source": [
    "with open('/Users/gokul/r/cityscope/cityscope_for_world/viewer/data/b5/cityscope.json','w+') as fh:\n",
    "    json.dump(cityscope_json,fh)"
   ]
  },
  {
   "cell_type": "code",
   "execution_count": 82,
   "metadata": {},
   "outputs": [],
   "source": [
    "with open('/Users/gokul/r/cityscope/cityscope_for_world/viewer/data/b5/geojson.json','w+') as fh:\n",
    "    json.dump(json_gdf,fh)"
   ]
  },
  {
   "cell_type": "code",
   "execution_count": 83,
   "metadata": {},
   "outputs": [],
   "source": [
    "test([bound[1],bound[0],bound[3],bound[2]]).save('/Users/gokul/r/cityscope/cityscope_for_world/viewer/data/b5/b1.png')"
   ]
  },
  {
   "cell_type": "code",
   "execution_count": null,
   "metadata": {},
   "outputs": [],
   "source": []
  }
 ],
 "metadata": {
  "kernelspec": {
   "display_name": "Python 3",
   "language": "python",
   "name": "python3"
  },
  "language_info": {
   "codemirror_mode": {
    "name": "ipython",
    "version": 3
   },
   "file_extension": ".py",
   "mimetype": "text/x-python",
   "name": "python",
   "nbconvert_exporter": "python",
   "pygments_lexer": "ipython3",
   "version": "3.7.3"
  }
 },
 "nbformat": 4,
 "nbformat_minor": 2
}
